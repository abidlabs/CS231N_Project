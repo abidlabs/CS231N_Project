{
 "cells": [
  {
   "cell_type": "markdown",
   "metadata": {},
   "source": [
    "# Setup"
   ]
  },
  {
   "cell_type": "markdown",
   "metadata": {},
   "source": [
    "This is just some python magic to make running scripts faster and plotting nicer."
   ]
  },
  {
   "cell_type": "code",
   "execution_count": 1,
   "metadata": {},
   "outputs": [
    {
     "name": "stderr",
     "output_type": "stream",
     "text": [
      "C:\\Python35\\lib\\site-packages\\h5py\\__init__.py:34: FutureWarning: Conversion of the second argument of issubdtype from `float` to `np.floating` is deprecated. In future, it will be treated as `np.float64 == np.dtype(float).type`.\n",
      "  from ._conv import register_converters as _register_converters\n"
     ]
    },
    {
     "name": "stdout",
     "output_type": "stream",
     "text": [
      "WARNING:tensorflow:From C:\\Python35\\lib\\site-packages\\tensorflow\\contrib\\learn\\python\\learn\\datasets\\base.py:198: retry (from tensorflow.contrib.learn.python.learn.datasets.base) is deprecated and will be removed in a future version.\n",
      "Instructions for updating:\n",
      "Use the retry module or similar alternatives.\n"
     ]
    }
   ],
   "source": [
    "import numpy as np, pickle\n",
    "import matplotlib.pyplot as plt\n",
    "from matplotlib import rcParams\n",
    "from tensorflow.examples.tutorials.mnist import input_data\n",
    "import tensorflow as tf\n",
    "\n",
    "%matplotlib inline\n",
    "%load_ext autoreload\n",
    "%autoreload 2\n",
    "\n",
    "params = {\n",
    "   'axes.labelsize': 16,\n",
    "   'font.size': 16,\n",
    "   'legend.fontsize': 16,\n",
    "   'xtick.labelsize': 13,\n",
    "   'ytick.labelsize': 13,\n",
    "   'text.usetex': False,\n",
    "    'font.family':\"sans-serif\",\n",
    "   'font.sans-serif':'Arial',\n",
    "   'text.usetex': False,\n",
    "   }\n",
    "\n",
    "rcParams.update(params)"
   ]
  },
  {
   "cell_type": "markdown",
   "metadata": {},
   "source": [
    "Let's load the MNIST dataset"
   ]
  },
  {
   "cell_type": "code",
   "execution_count": 3,
   "metadata": {},
   "outputs": [
    {
     "name": "stdout",
     "output_type": "stream",
     "text": [
      "Extracting MNIST_data/train-images-idx3-ubyte.gz\n",
      "Extracting MNIST_data/train-labels-idx1-ubyte.gz\n",
      "Extracting MNIST_data/t10k-images-idx3-ubyte.gz\n",
      "Extracting MNIST_data/t10k-labels-idx1-ubyte.gz\n"
     ]
    }
   ],
   "source": [
    "mnist = input_data.read_data_sets(\"MNIST_data/\", one_hot=True)\n",
    "\n",
    "def get_variable(shape):\n",
    "    initial = tf.random_normal(shape)\n",
    "    return tf.Variable(initial)"
   ]
  },
  {
   "cell_type": "markdown",
   "metadata": {},
   "source": [
    "**Note: to reduce the number of parameters, I have first performed a 2x2 max-pooling on the MNIST images to produces images of size 7x7, and then classified these images. This reduces the accuracy of a 1-hidden layer fully-connected network from about 92% to 84%. This pooling can be changed by changing the parameter ``pool`` in the methods below.**"
   ]
  },
  {
   "cell_type": "markdown",
   "metadata": {},
   "source": [
    "# Regularization"
   ]
  },
  {
   "cell_type": "markdown",
   "metadata": {},
   "source": [
    "(@Jaime, here's the method you can use to add more regularization kinds)"
   ]
  },
  {
   "cell_type": "code",
   "execution_count": 21,
   "metadata": {},
   "outputs": [],
   "source": [
    "def regularize(loss, weights, reg_kind=None, reg_value=None):\n",
    "    if reg_kind is None:\n",
    "        return loss\n",
    "    elif reg_kind=='L1':\n",
    "        print(\"Adding L1 regularization\")\n",
    "        return loss + reg_value*tf.reduce_mean(tf.abs(weights))\n",
    "    else:\n",
    "        raise ValueError(\"Invalid value for parameter: reg_kind\")"
   ]
  },
  {
   "cell_type": "markdown",
   "metadata": {},
   "source": [
    "# Fully Connected"
   ]
  },
  {
   "cell_type": "markdown",
   "metadata": {},
   "source": [
    "The architecture is: FC-49 | FC-10\n",
    " \n",
    "To increase flexibility, I have included a parameter called ``num_channels``. By changing this parameter, one can increase the number of weights. For example, if ``num_channels`` is 3, then the architecture is:\n",
    "\n",
    "The architecture is: FC-147 | FC-10"
   ]
  },
  {
   "cell_type": "code",
   "execution_count": 16,
   "metadata": {},
   "outputs": [],
   "source": [
    "def fully_connected(pool=4, num_channels=10, verbose=True, return_weights=False, reg_kind=None, reg_value=None):\n",
    "    \n",
    "    d = int(784/pool/pool)\n",
    "    x = tf.placeholder(tf.float32, [None, 784])\n",
    "\n",
    "\n",
    "    #hidden layer\n",
    "    W_fc1 = get_variable([d, d*num_channels])\n",
    "    b_fc1 = get_variable([d*num_channels])\n",
    "    # W_fc1 = weight_variable([784, 7840])\n",
    "    # b_fc1 = bias_variable([7840])\n",
    "    x_reshaped = tf.reshape(x, [-1, 28, 28, 1])\n",
    "    x_reshaped = tf.nn.max_pool(x_reshaped, [1, pool, pool,1], [1, pool, pool, 1], padding='SAME')\n",
    "    x_reshaped = tf.reshape(x_reshaped, [-1, d])\n",
    "    h_fc1 = tf.sigmoid(tf.matmul(x_reshaped, W_fc1) + b_fc1)\n",
    "\n",
    "    #output layer\n",
    "    W_fc2 = get_variable([d*num_channels, 10])\n",
    "    # W_fc2 = weight_variable([7840, 10])\n",
    "    b_fc2 = get_variable([10])\n",
    "    y = tf.matmul(h_fc1, W_fc2) + b_fc2\n",
    "\n",
    "    y_ = tf.placeholder(tf.float32, [None, 10])\n",
    "    loss = tf.reduce_mean(tf.nn.softmax_cross_entropy_with_logits(labels=y_, logits=y))\n",
    "    loss = regularize(loss, W_fc2, reg_kind, reg_value)\n",
    "    train_step = tf.train.GradientDescentOptimizer(3.0).minimize(loss)\n",
    "\n",
    "    with tf.Session() as sess:\n",
    "        tf.global_variables_initializer().run()\n",
    "\n",
    "        correct_prediction = tf.equal(tf.argmax(y, 1), tf.argmax(y_, 1))\n",
    "        accuracy = tf.reduce_mean(tf.cast(correct_prediction, tf.float32))\n",
    "\n",
    "        for i in range(1000):\n",
    "            batch = mnist.train.next_batch(100)\n",
    "            train_step.run(feed_dict={x: batch[0], y_: batch[1]})\n",
    "            if i%100==0:\n",
    "                accuracy_train = accuracy.eval(feed_dict={x: mnist.train.images, y_: mnist.train.labels})\n",
    "                accuracy_valid = accuracy.eval(feed_dict={x: mnist.test.images, y_: mnist.test.labels})\n",
    "                if verbose:\n",
    "                    print('Train acc:',accuracy_train, 'Valid acc:',accuracy_valid)\n",
    "        \n",
    "        return_values = [accuracy_train, accuracy_valid]\n",
    "        if return_weights:\n",
    "            return_values.append(sess.run(W_fc2))\n",
    "        \n",
    "    return return_values"
   ]
  },
  {
   "cell_type": "code",
   "execution_count": 32,
   "metadata": {},
   "outputs": [
    {
     "name": "stdout",
     "output_type": "stream",
     "text": [
      "Train acc: 0.14752728\n",
      "Valid acc: 0.1507\n",
      "Train acc: 0.78583634\n",
      "Valid acc: 0.7901\n",
      "Train acc: 0.806\n",
      "Valid acc: 0.8048\n",
      "Train acc: 0.77854544\n",
      "Valid acc: 0.7768\n",
      "Train acc: 0.8433273\n",
      "Valid acc: 0.842\n",
      "Train acc: 0.8401091\n",
      "Valid acc: 0.8442\n",
      "Train acc: 0.8203091\n",
      "Valid acc: 0.8152\n",
      "Train acc: 0.8164\n",
      "Valid acc: 0.8111\n",
      "Train acc: 0.83714545\n",
      "Valid acc: 0.8328\n",
      "Train acc: 0.8446\n",
      "Valid acc: 0.8395\n"
     ]
    },
    {
     "data": {
      "text/plain": [
       "(0.8446, 0.8395)"
      ]
     },
     "execution_count": 32,
     "metadata": {},
     "output_type": "execute_result"
    }
   ],
   "source": [
    "fully_connected()"
   ]
  },
  {
   "cell_type": "markdown",
   "metadata": {},
   "source": [
    "# 1-D Convolutional Networks"
   ]
  },
  {
   "cell_type": "markdown",
   "metadata": {},
   "source": [
    " The architecture is: CONV-3-NUM_CHANNELS | FC-10\n"
   ]
  },
  {
   "cell_type": "code",
   "execution_count": 15,
   "metadata": {},
   "outputs": [],
   "source": [
    "def convolutional(pool=4, num_channels=10, verbose=True):\n",
    "\n",
    "    d = int(784/pool/pool)\n",
    "    x = tf.placeholder(tf.float32, [None, 784])\n",
    "\n",
    "    #hidden layer\n",
    "    W_conv = get_variable([3, 1, num_channels])\n",
    "    b_conv = get_variable([num_channels])\n",
    "    #h_fc1 = tf.sigmoid(tf.matmul(x, W_fc1) + b_fc1)\n",
    "\n",
    "    x_reshaped = tf.reshape(x, [-1, 28, 28, 1])\n",
    "    x_reshaped = tf.nn.max_pool(x_reshaped, [1, pool, pool,1], [1, pool, pool, 1], padding='SAME')\n",
    "    #x_reshaped = tf.reshape(x_reshaped, [-1, d])\n",
    "\n",
    "    h = tf.nn.conv1d(tf.reshape(x_reshaped, [-1, d, 1]), W_conv, 1, \"SAME\")\n",
    "    h = tf.nn.sigmoid(h + b_conv)\n",
    "\n",
    "    #output layer\n",
    "    W_fc2 = get_variable([d*num_channels, 10])\n",
    "    b_fc2 = get_variable([10])\n",
    "    y = tf.matmul(tf.reshape(h, [-1, d*num_channels]), W_fc2) + b_fc2\n",
    "\n",
    "    y_ = tf.placeholder(tf.float32, [None, 10])\n",
    "    loss = tf.reduce_mean(tf.nn.softmax_cross_entropy_with_logits(labels=y_, logits=y))\n",
    "    loss = regularize(loss, W_fc2, reg_kind, reg_value)\n",
    "    train_step = tf.train.GradientDescentOptimizer(3.0).minimize(loss)\n",
    "\n",
    "    with tf.Session() as sess:\n",
    "        tf.global_variables_initializer().run()\n",
    "\n",
    "        correct_prediction = tf.equal(tf.argmax(y, 1), tf.argmax(y_, 1))\n",
    "        accuracy = tf.reduce_mean(tf.cast(correct_prediction, tf.float32))\n",
    "\n",
    "        for i in range(1000):\n",
    "            batch = mnist.train.next_batch(100)\n",
    "            train_step.run(feed_dict={x: batch[0], y_: batch[1]})\n",
    "            if i%100==0:\n",
    "                accuracy_train = accuracy.eval(feed_dict={x: mnist.train.images, y_: mnist.train.labels})\n",
    "                accuracy_valid = accuracy.eval(feed_dict={x: mnist.test.images, y_: mnist.test.labels})\n",
    "                if verbose:\n",
    "                    print('Train acc:',accuracy_train, 'Valid acc:',accuracy_valid)\n",
    "                \n",
    "        return_values = [accuracy_train, accuracy_valid]\n",
    "        if return_weights:\n",
    "            return_values.append(sess.run(W_fc2))\n",
    "    \n",
    "    return return_values"
   ]
  },
  {
   "cell_type": "code",
   "execution_count": 34,
   "metadata": {},
   "outputs": [
    {
     "name": "stdout",
     "output_type": "stream",
     "text": [
      "Train acc: 0.10985455\n",
      "Valid acc: 0.1082\n",
      "Train acc: 0.1146\n",
      "Valid acc: 0.1189\n",
      "Train acc: 0.5362\n",
      "Valid acc: 0.5516\n",
      "Train acc: 0.7652\n",
      "Valid acc: 0.7736\n",
      "Train acc: 0.8018182\n",
      "Valid acc: 0.8101\n",
      "Train acc: 0.80625457\n",
      "Valid acc: 0.8139\n",
      "Train acc: 0.8189273\n",
      "Valid acc: 0.8248\n",
      "Train acc: 0.8318545\n",
      "Valid acc: 0.8367\n",
      "Train acc: 0.83183634\n",
      "Valid acc: 0.8394\n",
      "Train acc: 0.81505454\n",
      "Valid acc: 0.8185\n"
     ]
    },
    {
     "data": {
      "text/plain": [
       "(0.81505454, 0.8185)"
      ]
     },
     "execution_count": 34,
     "metadata": {},
     "output_type": "execute_result"
    }
   ],
   "source": [
    "convolutional()"
   ]
  },
  {
   "cell_type": "code",
   "execution_count": 48,
   "metadata": {},
   "outputs": [
    {
     "name": "stdout",
     "output_type": "stream",
     "text": [
      "1\n",
      "3\n",
      "5\n",
      "7\n",
      "9\n"
     ]
    }
   ],
   "source": [
    "fc_trains = list()\n",
    "fc_valids = list()\n",
    "conv_trains = list()\n",
    "conv_valids = list()\n",
    "i_s = range(1, 10, 2)\n",
    "\n",
    "for i in i_s:\n",
    "    print(i)\n",
    "    t, v = fully_connected(num_channels=i, verbose=False)\n",
    "    fc_trains.append(t)\n",
    "    fc_valids.append(v)\n",
    "    t, v = convolutional(num_channels=i, verbose=False)\n",
    "    conv_trains.append(t)\n",
    "    conv_valids.append(v)"
   ]
  },
  {
   "cell_type": "code",
   "execution_count": 56,
   "metadata": {},
   "outputs": [
    {
     "data": {
      "image/png": "[encoded data removed]",
      "text/plain": [
       "<matplotlib.figure.Figure at 0x27c06a23e48>"
      ]
     },
     "metadata": {},
     "output_type": "display_data"
    }
   ],
   "source": [
    "plt.plot(i_s, fc_valids, '-o', label='Fully Connected')\n",
    "plt.plot(i_s, conv_valids, '-o', label='Convolutional')\n",
    "plt.title('Validation Accuracy')\n",
    "plt.legend()\n",
    "plt.ylim([0, 1]);"
   ]
  },
  {
   "cell_type": "markdown",
   "metadata": {},
   "source": [
    "Strangely enough, it seems that the fully-connected network is performing better than the 1D convolution! This means that regularization of the form that we propose may actually _worsen_ performance. Nevertheless, let's see if the weights take a \"convolutional\" structure with proper regularization."
   ]
  },
  {
   "cell_type": "markdown",
   "metadata": {},
   "source": [
    "# Let's Take a Look at the Weights"
   ]
  },
  {
   "cell_type": "markdown",
   "metadata": {},
   "source": [
    "Let's define a method that takes in the weights of the fully-connected network and visualizes them."
   ]
  },
  {
   "cell_type": "code",
   "execution_count": 39,
   "metadata": {},
   "outputs": [],
   "source": [
    "def visualize_weights(weights, num_channels, num_digits=5):\n",
    "    weights = np.abs(weights.reshape(7, 7, num_channels, weights.shape[1])) # we care about magnitude\n",
    "    fig, axes = plt.subplots(num_channels, num_digits, figsize=[2*num_digits, 2*num_channels])\n",
    "    for i in range(num_channels):\n",
    "        for j in range(num_digits):\n",
    "            axes[i, j].imshow(weights[:, :, i,j], cmap='gray', vmin=np.min(weights), vmax=np.max(weights))  "
   ]
  },
  {
   "cell_type": "markdown",
   "metadata": {},
   "source": [
    "### Without any regularization"
   ]
  },
  {
   "cell_type": "code",
   "execution_count": 41,
   "metadata": {},
   "outputs": [],
   "source": [
    "accuracy_train, accuracy_valid, weights = fully_connected(num_channels=3, verbose=False, return_weights=True)"
   ]
  },
  {
   "cell_type": "code",
   "execution_count": 42,
   "metadata": {},
   "outputs": [
    {
     "name": "stdout",
     "output_type": "stream",
     "text": [
      "0.8403\n"
     ]
    }
   ],
   "source": [
    "print(accuracy_valid)"
   ]
  },
  {
   "cell_type": "code",
   "execution_count": 43,
   "metadata": {},
   "outputs": [
    {
     "data": {
      "image/png": "[encoded data removed]",
      "text/plain": [
       "<matplotlib.figure.Figure at 0x1673588fc88>"
      ]
     },
     "metadata": {},
     "output_type": "display_data"
    }
   ],
   "source": [
    "visualize_weights(weights, num_channels=3)"
   ]
  },
  {
   "cell_type": "markdown",
   "metadata": {},
   "source": [
    "### With $L_1$ regularization"
   ]
  },
  {
   "cell_type": "code",
   "execution_count": 36,
   "metadata": {},
   "outputs": [
    {
     "name": "stdout",
     "output_type": "stream",
     "text": [
      "Adding L1 regularization\n"
     ]
    }
   ],
   "source": [
    "accuracy_train, accuracy_valid, weights = fully_connected(num_channels=3, verbose=False, return_weights=True,\n",
    "                                                         reg_kind='L1', reg_value=1)"
   ]
  },
  {
   "cell_type": "markdown",
   "metadata": {},
   "source": [
    "The accuracy is pretty much unchanged:"
   ]
  },
  {
   "cell_type": "code",
   "execution_count": 37,
   "metadata": {},
   "outputs": [
    {
     "name": "stdout",
     "output_type": "stream",
     "text": [
      "0.8505\n"
     ]
    }
   ],
   "source": [
    "print(accuracy_valid)"
   ]
  },
  {
   "cell_type": "markdown",
   "metadata": {},
   "source": [
    "But the weights are visibly sparser"
   ]
  },
  {
   "cell_type": "code",
   "execution_count": 40,
   "metadata": {},
   "outputs": [
    {
     "data": {
      "image/png": "[encoded data removed]",
      "text/plain": [
       "<matplotlib.figure.Figure at 0x167333f0160>"
      ]
     },
     "metadata": {},
     "output_type": "display_data"
    }
   ],
   "source": [
    "visualize_weights(weights, num_channels=3)"
   ]
  }
 ],
 "metadata": {
  "kernelspec": {
   "display_name": "Python 3",
   "language": "python",
   "name": "python3"
  },
  "language_info": {
   "codemirror_mode": {
    "name": "ipython",
    "version": 3
   },
   "file_extension": ".py",
   "mimetype": "text/x-python",
   "name": "python",
   "nbconvert_exporter": "python",
   "pygments_lexer": "ipython3",
   "version": "3.5.2"
  }
 },
 "nbformat": 4,
 "nbformat_minor": 2
}
