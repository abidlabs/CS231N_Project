{
 "cells": [
  {
   "cell_type": "markdown",
   "metadata": {},
   "source": [
    "# Simulations for 1D Convolutions "
   ]
  },
  {
   "cell_type": "code",
   "execution_count": 1,
   "metadata": {},
   "outputs": [
    {
     "name": "stderr",
     "output_type": "stream",
     "text": [
      "C:\\Python35\\lib\\site-packages\\h5py\\__init__.py:34: FutureWarning: Conversion of the second argument of issubdtype from `float` to `np.floating` is deprecated. In future, it will be treated as `np.float64 == np.dtype(float).type`.\n",
      "  from ._conv import register_converters as _register_converters\n"
     ]
    },
    {
     "name": "stdout",
     "output_type": "stream",
     "text": [
      "WARNING:tensorflow:From C:\\Python35\\lib\\site-packages\\tensorflow\\contrib\\learn\\python\\learn\\datasets\\base.py:198: retry (from tensorflow.contrib.learn.python.learn.datasets.base) is deprecated and will be removed in a future version.\n",
      "Instructions for updating:\n",
      "Use the retry module or similar alternatives.\n"
     ]
    }
   ],
   "source": [
    "# setup\n",
    "import numpy as np, pickle\n",
    "import matplotlib.pyplot as plt\n",
    "from matplotlib import rcParams\n",
    "from tensorflow.examples.tutorials.mnist import input_data\n",
    "import tensorflow as tf\n",
    "from utils import *\n",
    "import dill\n",
    "\n",
    "%matplotlib inline\n",
    "%load_ext autoreload\n",
    "%autoreload 2\n",
    "\n",
    "params = {\n",
    "   'axes.labelsize': 16,\n",
    "   'font.size': 16,\n",
    "   'legend.fontsize': 16,\n",
    "   'xtick.labelsize': 13,\n",
    "   'ytick.labelsize': 13,\n",
    "   'text.usetex': False,\n",
    "    'font.family':\"sans-serif\",\n",
    "   'font.sans-serif':'Arial',\n",
    "   'text.usetex': False,\n",
    "   }\n",
    "\n",
    "rcParams.update(params)\n",
    "plt.style.use('dark_background')"
   ]
  },
  {
   "cell_type": "markdown",
   "metadata": {},
   "source": [
    "## Synthetic Data"
   ]
  },
  {
   "cell_type": "code",
   "execution_count": 2,
   "metadata": {},
   "outputs": [
    {
     "name": "stdout",
     "output_type": "stream",
     "text": [
      "Num of positive examples: 489 - Num of negative examples: 511\n"
     ]
    }
   ],
   "source": [
    "from sklearn.preprocessing import OneHotEncoder\n",
    "from sklearn.model_selection import train_test_split\n",
    "\n",
    "n = 1000 # number of samples\n",
    "d = 20 # size of each input\n",
    "pattern = [-1, 1, -1, 1, -1, 1, -1]\n",
    "\n",
    "y = np.random.randint(0, 2, (n, 1))\n",
    "X = 2*np.random.random((n, d))-1\n",
    "\n",
    "positive_count = 0\n",
    "negative_count = 0\n",
    "\n",
    "for i in range(n):\n",
    "    if y[i]==1:\n",
    "        positive_count += 1\n",
    "        pos = np.random.randint(0, d-len(pattern))\n",
    "        X[i][pos:pos+len(pattern)] = pattern\n",
    "    else:\n",
    "        negative_count += 1\n",
    "        \n",
    "print(\"Num of positive examples:\", positive_count, \"- Num of negative examples:\", negative_count)\n",
    "\n",
    "# One-hot encode the labels\n",
    "one_hot  = OneHotEncoder()\n",
    "y_ = one_hot.fit_transform(y).toarray()\n",
    "\n",
    "# Test-train split\n",
    "data = X_train, X_valid, y_train, y_valid = train_test_split(X, y_, test_size=0.2)"
   ]
  },
  {
   "cell_type": "markdown",
   "metadata": {},
   "source": [
    "## Network"
   ]
  },
  {
   "cell_type": "code",
   "execution_count": 23,
   "metadata": {},
   "outputs": [],
   "source": [
    "def general_network(data, num_channels=1, verbose=True, batches=1500, print_every=100, filter_size=5,\n",
    "                    pool_to=1, return_weights=False, reg_kind=None, reg_value=None, kind='fully_connected'):\n",
    "    \n",
    "    tf.reset_default_graph()\n",
    "    # input\n",
    "    X_train, X_valid, y_train, y_valid = data\n",
    "    d = X_train.shape[1]\n",
    "\n",
    "    # placeholders\n",
    "    x = tf.placeholder(tf.float32, [None, d])\n",
    "    y_ = tf.placeholder(tf.float32, [None, 2])\n",
    "\n",
    "    # weights\n",
    "    if kind=='fully_connected':\n",
    "        W_1 = get_variable([d, d*num_channels])\n",
    "        b_1 = get_variable([d*num_channels])\n",
    "    elif kind=='convolutional':\n",
    "        W_1 = get_variable([filter_size, 1, num_channels])\n",
    "        b_1 = get_variable([num_channels])   \n",
    "    else:\n",
    "        raise ValueError('Invalid kind of neural network')\n",
    "    W_fc2 = get_variable([pool_to*num_channels, 2])\n",
    "    b_fc2 = get_variable([2])\n",
    "    \n",
    "    # network\n",
    "    if kind=='fully_connected':\n",
    "        h = tf.nn.relu(tf.matmul(x, W_1) + b_1)\n",
    "    elif kind=='convolutional':\n",
    "        x_reshaped = tf.reshape(x, [-1, d, 1])\n",
    "        h = tf.nn.conv1d(x_reshaped, W_1, 1, \"SAME\")\n",
    "        \n",
    "    h = tf.reshape(h, [-1, d*num_channels, 1, 1])\n",
    "    h = tf.nn.max_pool(h, [1, d/pool_to, 1, 1], [1, d/pool_to, 1, 1], padding='SAME')\n",
    "    h = tf.reshape(h, [-1, pool_to*num_channels])\n",
    "    y = tf.matmul(h, W_fc2) + b_fc2\n",
    "\n",
    "    loss = tf.reduce_mean(tf.nn.softmax_cross_entropy_with_logits(labels=y_, logits=y))\n",
    "    if kind=='fully_connected':\n",
    "        loss = regularize(loss, W_1, reg_kind, reg_value)\n",
    "    train_step = tf.train.AdamOptimizer(0.003).minimize(loss)\n",
    "\n",
    "    with tf.Session() as sess:\n",
    "        tf.global_variables_initializer().run()\n",
    "\n",
    "        correct_prediction = tf.equal(tf.argmax(y, 1), tf.argmax(y_, 1))\n",
    "        accuracy = tf.reduce_mean(tf.cast(correct_prediction, tf.float32))\n",
    "\n",
    "        for i in range(batches):\n",
    "            train_step.run(feed_dict={x: X_train, y_: y_train})\n",
    "            if i%print_every==0:\n",
    "                accuracy_train = accuracy.eval(feed_dict={x: X_train, y_: y_train})\n",
    "                accuracy_valid = accuracy.eval(feed_dict={x: X_valid, y_: y_valid})\n",
    "                if verbose:\n",
    "                    print('Train acc:',accuracy_train, 'Valid acc:',accuracy_valid)\n",
    "        \n",
    "        return_values = [accuracy_train, accuracy_valid]\n",
    "        if return_weights:\n",
    "            return_values.append(sess.run(W_1))\n",
    "        \n",
    "    return return_values"
   ]
  },
  {
   "cell_type": "code",
   "execution_count": 63,
   "metadata": {},
   "outputs": [
    {
     "name": "stdout",
     "output_type": "stream",
     "text": [
      "Train acc: 0.51875 Valid acc: 0.48\n",
      "Train acc: 0.51875 Valid acc: 0.48\n",
      "Train acc: 0.51875 Valid acc: 0.48\n",
      "Train acc: 0.51875 Valid acc: 0.48\n",
      "Train acc: 0.525 Valid acc: 0.505\n",
      "Train acc: 0.6225 Valid acc: 0.575\n",
      "Train acc: 0.67625 Valid acc: 0.715\n",
      "Train acc: 0.76375 Valid acc: 0.755\n",
      "Train acc: 0.8125 Valid acc: 0.79\n",
      "Train acc: 0.835 Valid acc: 0.805\n",
      "Train acc: 0.86375 Valid acc: 0.82\n",
      "Train acc: 0.89375 Valid acc: 0.835\n",
      "Train acc: 0.92125 Valid acc: 0.91\n",
      "Train acc: 0.93875 Valid acc: 0.91\n",
      "Train acc: 0.96125 Valid acc: 0.925\n"
     ]
    }
   ],
   "source": [
    "_, _, weights = general_network(data, kind='fully_connected', reg_kind='DZ+L1', reg_value=[10,0.5], return_weights=True)"
   ]
  },
  {
   "cell_type": "code",
   "execution_count": 64,
   "metadata": {},
   "outputs": [
    {
     "data": {
      "text/plain": [
       "<matplotlib.image.AxesImage at 0x7f04047134a8>"
      ]
     },
     "execution_count": 64,
     "metadata": {},
     "output_type": "execute_result"
    },
    {
     "data": {
      "image/png": "[encoded data removed]",
      "text/plain": [
       "<Figure size 432x288 with 1 Axes>"
      ]
     },
     "metadata": {},
     "output_type": "display_data"
    }
   ],
   "source": [
    "plt.imshow(weights, cmap='gray', vmin=np.min(weights), vmax=np.max(weights))"
   ]
  },
  {
   "cell_type": "code",
   "execution_count": 35,
   "metadata": {},
   "outputs": [
    {
     "name": "stdout",
     "output_type": "stream",
     "text": [
      "Train acc: 0.48125 Valid acc: 0.52\n",
      "Train acc: 0.48125 Valid acc: 0.52\n",
      "Train acc: 0.48125 Valid acc: 0.52\n",
      "Train acc: 0.65875 Valid acc: 0.665\n",
      "Train acc: 0.51875 Valid acc: 0.48\n",
      "Train acc: 0.51875 Valid acc: 0.48\n",
      "Train acc: 0.51875 Valid acc: 0.48\n",
      "Train acc: 0.51875 Valid acc: 0.48\n",
      "Train acc: 0.51875 Valid acc: 0.48\n",
      "Train acc: 0.94125 Valid acc: 0.955\n",
      "Train acc: 0.90875 Valid acc: 0.925\n",
      "Train acc: 0.8675 Valid acc: 0.88\n",
      "Train acc: 0.845 Valid acc: 0.855\n",
      "Train acc: 0.8325 Valid acc: 0.845\n",
      "Train acc: 0.82625 Valid acc: 0.845\n"
     ]
    }
   ],
   "source": [
    "_, _, weights = general_network(data, kind='convolutional', filter_size=1, return_weights=True)"
   ]
  },
  {
   "cell_type": "markdown",
   "metadata": {},
   "source": [
    "# Large Scale Simulations"
   ]
  },
  {
   "cell_type": "markdown",
   "metadata": {},
   "source": [
    "### Fully-Connected"
   ]
  },
  {
   "cell_type": "markdown",
   "metadata": {},
   "source": [
    "Varying both the L1 and the DZ"
   ]
  },
  {
   "cell_type": "code",
   "execution_count": 108,
   "metadata": {},
   "outputs": [
    {
     "name": "stdout",
     "output_type": "stream",
     "text": [
      "0 : 0 0 0 --> 1.0 0.99\n",
      "1 : 0 0 1 --> 0.97 0.965\n",
      "2 : 0 0 2 --> 0.8625 0.62\n",
      "3 : 0 0 3 --> 0.98375 0.98\n",
      "4 : 0 0 4 --> 0.9075 0.67\n",
      "5 : 0 0 5 --> 1.0 0.98\n",
      "6 : 0 0 6 --> 0.99125 0.99\n",
      "7 : 0 0 7 --> 0.98625 0.96\n",
      "8 : 0 0 8 --> 0.99875 0.99\n",
      "9 : 0 0 9 --> 0.82625 0.665\n",
      "10 : 0 1 0 --> 0.99625 0.99\n",
      "11 : 0 1 1 --> 0.985 0.985\n",
      "12 : 0 1 2 --> 0.585 0.53\n",
      "13 : 0 1 3 --> 0.99 0.99\n",
      "14 : 0 1 4 --> 0.99125 0.99\n",
      "15 : 0 1 5 --> 0.69625 0.595\n",
      "16 : 0 1 6 --> 0.99 0.98\n",
      "17 : 0 1 7 --> 0.76625 0.69\n",
      "18 : 0 1 8 --> 0.99875 0.99\n",
      "19 : 0 1 9 --> 0.7825 0.62\n",
      "20 : 0 2 0 --> 0.98875 0.965\n",
      "21 : 0 2 1 --> 0.99375 0.99\n",
      "22 : 0 2 2 --> 0.65875 0.59\n",
      "23 : 0 2 3 --> 0.98875 0.99\n",
      "24 : 0 2 4 --> 0.98625 0.94\n",
      "25 : 0 2 5 --> 0.97625 0.95\n",
      "26 : 0 2 6 --> 0.98875 0.955\n",
      "27 : 0 2 7 --> 0.9875 0.995\n",
      "28 : 0 2 8 --> 0.98375 0.99\n",
      "29 : 0 2 9 --> 0.98125 0.985\n",
      "30 : 0 3 0 --> 0.685 0.6\n",
      "31 : 0 3 1 --> 0.99 0.995\n",
      "32 : 0 3 2 --> 0.9825 0.98\n",
      "33 : 0 3 3 --> 0.97 0.955\n",
      "34 : 0 3 4 --> 0.97 0.955\n",
      "35 : 0 3 5 --> 0.62875 0.61\n",
      "36 : 0 3 6 --> 0.98125 0.985\n",
      "37 : 0 3 7 --> 0.99875 0.99\n",
      "38 : 0 3 8 --> 0.69125 0.615\n",
      "39 : 0 3 9 --> 0.69875 0.705\n",
      "40 : 0 4 0 --> 0.9725 0.955\n",
      "41 : 0 4 1 --> 0.66125 0.555\n",
      "42 : 0 4 2 --> 0.6375 0.59\n",
      "43 : 0 4 3 --> 0.9475 0.975\n",
      "44 : 0 4 4 --> 0.98625 0.975\n",
      "45 : 0 4 5 --> 0.965 0.95\n",
      "46 : 0 4 6 --> 0.6025 0.58\n",
      "47 : 0 4 7 --> 0.99 0.97\n",
      "48 : 0 4 8 --> 0.97625 0.965\n",
      "49 : 0 4 9 --> 0.9825 0.95\n",
      "50 : 0 5 0 --> 0.99375 0.995\n",
      "51 : 0 5 1 --> 0.5875 0.57\n",
      "52 : 0 5 2 --> 0.5475 0.51\n",
      "53 : 0 5 3 --> 0.9125 0.93\n",
      "54 : 0 5 4 --> 0.94125 0.965\n",
      "55 : 0 5 5 --> 0.51875 0.48\n",
      "56 : 0 5 6 --> 0.91875 0.945\n",
      "57 : 0 5 7 --> 0.53375 0.49\n",
      "58 : 0 5 8 --> 0.51875 0.48\n",
      "59 : 0 5 9 --> 0.94375 0.975\n",
      "60 : 0 6 0 --> 0.93375 0.92\n",
      "61 : 0 6 1 --> 0.92125 0.945\n",
      "62 : 0 6 2 --> 0.91375 0.93\n",
      "63 : 0 6 3 --> 0.635 0.57\n",
      "64 : 0 6 4 --> 0.96125 0.945\n",
      "65 : 0 6 5 --> 0.91625 0.925\n",
      "66 : 0 6 6 --> 0.51875 0.48\n",
      "67 : 0 6 7 --> 0.945 0.96\n",
      "68 : 0 6 8 --> 0.53625 0.5\n",
      "69 : 0 6 9 --> 0.8225 0.805\n",
      "70 : 0 7 0 --> 0.51875 0.48\n",
      "71 : 0 7 1 --> 0.52875 0.49\n",
      "72 : 0 7 2 --> 0.9675 0.955\n",
      "73 : 0 7 3 --> 0.92125 0.95\n",
      "74 : 0 7 4 --> 0.94 0.94\n",
      "75 : 0 7 5 --> 0.5725 0.535\n",
      "76 : 0 7 6 --> 0.94125 0.955\n",
      "77 : 0 7 7 --> 0.96 0.93\n",
      "78 : 0 7 8 --> 0.88 0.905\n",
      "79 : 0 7 9 --> 0.51875 0.48\n",
      "80 : 1 0 0 --> 0.9925 1.0\n",
      "81 : 1 0 1 --> 1.0 1.0\n",
      "82 : 1 0 2 --> 0.78625 0.645\n",
      "83 : 1 0 3 --> 0.8725 0.645\n",
      "84 : 1 0 4 --> 0.98875 0.975\n",
      "85 : 1 0 5 --> 0.83 0.675\n",
      "86 : 1 0 6 --> 0.99875 0.98\n",
      "87 : 1 0 7 --> 0.81875 0.64\n",
      "88 : 1 0 8 --> 0.9975 0.985\n",
      "89 : 1 0 9 --> 0.87 0.62\n",
      "90 : 1 1 0 --> 0.99375 0.99\n",
      "91 : 1 1 1 --> 0.98875 0.985\n",
      "92 : 1 1 2 --> 0.97625 0.95\n",
      "93 : 1 1 3 --> 0.79625 0.595\n",
      "94 : 1 1 4 --> 0.71 0.615\n",
      "95 : 1 1 5 --> 0.98625 0.98\n",
      "96 : 1 1 6 --> 0.935 0.93\n",
      "97 : 1 1 7 --> 0.95 0.96\n",
      "98 : 1 1 8 --> 0.745 0.655\n",
      "99 : 1 1 9 --> 0.995 0.99\n",
      "100 : 1 2 0 --> 0.99 0.995\n",
      "101 : 1 2 1 --> 0.9775 0.95\n",
      "102 : 1 2 2 --> 0.99375 0.985\n",
      "103 : 1 2 3 --> 0.51875 0.48\n",
      "104 : 1 2 4 --> 0.6875 0.635\n",
      "105 : 1 2 5 --> 0.9675 0.95\n",
      "106 : 1 2 6 --> 0.9775 0.955\n",
      "107 : 1 2 7 --> 0.98625 0.99\n",
      "108 : 1 2 8 --> 0.985 0.94\n",
      "109 : 1 2 9 --> 0.97 0.96\n",
      "110 : 1 3 0 --> 0.98125 0.98\n",
      "111 : 1 3 1 --> 0.99375 0.99\n",
      "112 : 1 3 2 --> 0.51875 0.48\n",
      "113 : 1 3 3 --> 0.9725 0.955\n",
      "114 : 1 3 4 --> 0.58875 0.54\n",
      "115 : 1 3 5 --> 0.98875 0.995\n",
      "116 : 1 3 6 --> 0.965 0.96\n",
      "117 : 1 3 7 --> 0.59625 0.555\n",
      "118 : 1 3 8 --> 0.93625 0.935\n",
      "119 : 1 3 9 --> 0.97625 0.95\n",
      "120 : 1 4 0 --> 0.985 0.995\n",
      "121 : 1 4 1 --> 0.65875 0.61\n",
      "122 : 1 4 2 --> 0.98125 0.995\n",
      "123 : 1 4 3 --> 0.96375 0.98\n",
      "124 : 1 4 4 --> 0.98625 0.995\n",
      "125 : 1 4 5 --> 0.97 0.96\n",
      "126 : 1 4 6 --> 0.97875 0.955\n",
      "127 : 1 4 7 --> 0.96625 0.945\n",
      "128 : 1 4 8 --> 0.98125 0.965\n",
      "129 : 1 4 9 --> 0.655 0.575\n",
      "130 : 1 5 0 --> 0.56375 0.525\n",
      "131 : 1 5 1 --> 0.63125 0.615\n",
      "132 : 1 5 2 --> 0.95875 0.945\n",
      "133 : 1 5 3 --> 0.51875 0.48\n",
      "134 : 1 5 4 --> 0.9675 0.96\n",
      "135 : 1 5 5 --> 0.6025 0.57\n",
      "136 : 1 5 6 --> 0.95 0.94\n",
      "137 : 1 5 7 --> 0.6 0.525\n",
      "138 : 1 5 8 --> 0.53125 0.49\n",
      "139 : 1 5 9 --> 0.93375 0.915\n",
      "140 : 1 6 0 --> 0.58375 0.525\n",
      "141 : 1 6 1 --> 0.93125 0.96\n",
      "142 : 1 6 2 --> 0.6 0.595\n",
      "143 : 1 6 3 --> 0.6 0.545\n",
      "144 : 1 6 4 --> 0.51875 0.48\n",
      "145 : 1 6 5 --> 0.56375 0.505\n",
      "146 : 1 6 6 --> 0.51875 0.48\n",
      "147 : 1 6 7 --> 0.53125 0.49\n",
      "148 : 1 6 8 --> 0.96625 0.955\n",
      "149 : 1 6 9 --> 0.9525 0.925\n",
      "150 : 1 7 0 --> 0.93375 0.975\n",
      "151 : 1 7 1 --> 0.95 0.935\n",
      "152 : 1 7 2 --> 0.6 0.58\n",
      "153 : 1 7 3 --> 0.9225 0.965\n",
      "154 : 1 7 4 --> 0.51875 0.48\n",
      "155 : 1 7 5 --> 0.905 0.93\n",
      "156 : 1 7 6 --> 0.96 0.93\n",
      "157 : 1 7 7 --> 0.8725 0.885\n",
      "158 : 1 7 8 --> 0.96375 0.955\n",
      "159 : 1 7 9 --> 0.81875 0.86\n",
      "160 : 2 0 0 --> 0.8575 0.63\n",
      "161 : 2 0 1 --> 0.99875 0.995\n",
      "162 : 2 0 2 --> 1.0 0.99\n",
      "163 : 2 0 3 --> 0.985 0.975\n",
      "164 : 2 0 4 --> 0.775 0.635\n",
      "165 : 2 0 5 --> 0.98 0.98\n",
      "166 : 2 0 6 --> 1.0 1.0\n",
      "167 : 2 0 7 --> 0.9925 0.985\n",
      "168 : 2 0 8 --> 0.985 0.98\n",
      "169 : 2 0 9 --> 0.71625 0.615\n",
      "170 : 2 1 0 --> 0.70125 0.605\n",
      "171 : 2 1 1 --> 0.60125 0.54\n",
      "172 : 2 1 2 --> 0.99625 0.995\n",
      "173 : 2 1 3 --> 0.51875 0.48\n",
      "174 : 2 1 4 --> 0.9425 0.945\n",
      "175 : 2 1 5 --> 0.98375 0.98\n",
      "176 : 2 1 6 --> 0.72625 0.615\n",
      "177 : 2 1 7 --> 0.63625 0.61\n",
      "178 : 2 1 8 --> 0.9875 0.99\n",
      "179 : 2 1 9 --> 0.51875 0.48\n",
      "180 : 2 2 0 --> 0.9925 0.995\n",
      "181 : 2 2 1 --> 0.59625 0.545\n",
      "182 : 2 2 2 --> 0.99375 0.975\n",
      "183 : 2 2 3 --> 0.9725 0.96\n",
      "184 : 2 2 4 --> 0.95375 0.945\n",
      "185 : 2 2 5 --> 0.5975 0.555\n",
      "186 : 2 2 6 --> 0.67 0.63\n",
      "187 : 2 2 7 --> 1.0 0.995\n",
      "188 : 2 2 8 --> 0.97875 0.98\n",
      "189 : 2 2 9 --> 0.765 0.645\n",
      "190 : 2 3 0 --> 0.64125 0.575\n",
      "191 : 2 3 1 --> 0.99875 0.995\n",
      "192 : 2 3 2 --> 0.5925 0.55\n",
      "193 : 2 3 3 --> 0.665 0.625\n",
      "194 : 2 3 4 --> 0.5875 0.565\n",
      "195 : 2 3 5 --> 0.995 0.995\n",
      "196 : 2 3 6 --> 0.56 0.5\n",
      "197 : 2 3 7 --> 0.9875 0.995\n",
      "198 : 2 3 8 --> 0.97375 0.97\n",
      "199 : 2 3 9 --> 0.98375 0.995\n",
      "200 : 2 4 0 --> 0.9675 0.96\n",
      "201 : 2 4 1 --> 0.99375 0.99\n",
      "202 : 2 4 2 --> 0.96125 0.95\n",
      "203 : 2 4 3 --> 0.97875 0.96\n",
      "204 : 2 4 4 --> 0.715 0.575\n",
      "205 : 2 4 5 --> 0.98625 0.985\n",
      "206 : 2 4 6 --> 0.92875 0.945\n",
      "207 : 2 4 7 --> 0.6 0.57\n",
      "208 : 2 4 8 --> 0.97 0.955\n",
      "209 : 2 4 9 --> 0.985 0.995\n",
      "210 : 2 5 0 --> 0.54375 0.515\n",
      "211 : 2 5 1 --> 0.95875 0.95\n",
      "212 : 2 5 2 --> 0.57875 0.53\n",
      "213 : 2 5 3 --> 0.99625 0.98\n",
      "214 : 2 5 4 --> 0.9625 0.96\n",
      "215 : 2 5 5 --> 0.96625 0.965\n",
      "216 : 2 5 6 --> 0.51875 0.48\n",
      "217 : 2 5 7 --> 0.9225 0.945\n",
      "218 : 2 5 8 --> 0.995 0.995\n",
      "219 : 2 5 9 --> 0.96125 0.96\n",
      "220 : 2 6 0 --> 0.52 0.485\n",
      "221 : 2 6 1 --> 0.91125 0.935\n",
      "222 : 2 6 2 --> 0.58375 0.57\n",
      "223 : 2 6 3 --> 0.9125 0.94\n",
      "224 : 2 6 4 --> 0.6125 0.58\n",
      "225 : 2 6 5 --> 0.51875 0.48\n",
      "226 : 2 6 6 --> 0.95 0.94\n",
      "227 : 2 6 7 --> 0.9175 0.93\n",
      "228 : 2 6 8 --> 0.52 0.48\n",
      "229 : 2 6 9 --> 0.965 0.935\n",
      "230 : 2 7 0 --> 0.92375 0.97\n",
      "231 : 2 7 1 --> 0.91 0.905\n",
      "232 : 2 7 2 --> 0.92875 0.92\n",
      "233 : 2 7 3 --> 0.81 0.785\n",
      "234 : 2 7 4 --> 0.52 0.48\n",
      "235 : 2 7 5 --> 0.51875 0.48\n",
      "236 : 2 7 6 --> 0.9475 0.98\n",
      "237 : 2 7 7 --> 0.51875 0.48\n",
      "238 : 2 7 8 --> 0.51875 0.48\n",
      "239 : 2 7 9 --> 0.5275 0.49\n",
      "240 : 3 0 0 --> 0.9925 0.985\n",
      "241 : 3 0 1 --> 0.99875 0.99\n",
      "242 : 3 0 2 --> 0.785 0.675\n",
      "243 : 3 0 3 --> 0.75375 0.61\n",
      "244 : 3 0 4 --> 0.75875 0.655\n",
      "245 : 3 0 5 --> 0.7575 0.635\n",
      "246 : 3 0 6 --> 0.95375 0.92\n",
      "247 : 3 0 7 --> 0.75625 0.62\n",
      "248 : 3 0 8 --> 0.9925 0.99\n",
      "249 : 3 0 9 --> 0.9825 0.99\n",
      "250 : 3 1 0 --> 0.99375 0.99\n",
      "251 : 3 1 1 --> 0.96875 0.95\n",
      "252 : 3 1 2 --> 0.98 0.99\n",
      "253 : 3 1 3 --> 0.9175 0.925\n",
      "254 : 3 1 4 --> 0.5175 0.48\n",
      "255 : 3 1 5 --> 0.66625 0.585\n",
      "256 : 3 1 6 --> 0.9675 0.945\n",
      "257 : 3 1 7 --> 0.9875 0.985\n",
      "258 : 3 1 8 --> 0.93875 0.925\n",
      "259 : 3 1 9 --> 0.97375 0.975\n",
      "260 : 3 2 0 --> 0.96875 0.955\n",
      "261 : 3 2 1 --> 0.97125 0.95\n",
      "262 : 3 2 2 --> 0.97125 0.955\n",
      "263 : 3 2 3 --> 0.69875 0.605\n",
      "264 : 3 2 4 --> 0.75 0.615\n",
      "265 : 3 2 5 --> 0.51875 0.48\n",
      "266 : 3 2 6 --> 0.9825 0.98\n",
      "267 : 3 2 7 --> 0.94875 0.96\n",
      "268 : 3 2 8 --> 0.6725 0.55\n",
      "269 : 3 2 9 --> 0.96375 0.965\n",
      "270 : 3 3 0 --> 0.9825 0.975\n",
      "271 : 3 3 1 --> 0.51875 0.48\n",
      "272 : 3 3 2 --> 0.97875 0.975\n",
      "273 : 3 3 3 --> 0.91125 0.92\n",
      "274 : 3 3 4 --> 0.9675 0.945\n",
      "275 : 3 3 5 --> 0.98125 0.97\n",
      "276 : 3 3 6 --> 0.97375 0.98\n",
      "277 : 3 3 7 --> 0.975 0.955\n",
      "278 : 3 3 8 --> 0.97875 0.955\n",
      "279 : 3 3 9 --> 0.9975 0.985\n",
      "280 : 3 4 0 --> 0.565 0.56\n",
      "281 : 3 4 1 --> 0.9825 0.985\n",
      "282 : 3 4 2 --> 0.96375 0.95\n",
      "283 : 3 4 3 --> 0.51875 0.48\n",
      "284 : 3 4 4 --> 0.51875 0.48\n",
      "285 : 3 4 5 --> 0.9725 0.95\n",
      "286 : 3 4 6 --> 0.66375 0.605\n",
      "287 : 3 4 7 --> 0.5875 0.55\n",
      "288 : 3 4 8 --> 0.9775 0.99\n",
      "289 : 3 4 9 --> 0.96875 0.965\n",
      "290 : 3 5 0 --> 0.68 0.595\n",
      "291 : 3 5 1 --> 0.9325 0.965\n",
      "292 : 3 5 2 --> 0.59125 0.545\n",
      "293 : 3 5 3 --> 0.51875 0.48\n",
      "294 : 3 5 4 --> 0.91125 0.94\n",
      "295 : 3 5 5 --> 0.9925 0.99\n",
      "296 : 3 5 6 --> 0.96875 0.96\n",
      "297 : 3 5 7 --> 0.98125 0.985\n",
      "298 : 3 5 8 --> 0.51875 0.48\n",
      "299 : 3 5 9 --> 0.9575 0.96\n",
      "300 : 3 6 0 --> 0.51875 0.48\n",
      "301 : 3 6 1 --> 0.92375 0.975\n",
      "302 : 3 6 2 --> 0.58625 0.575\n",
      "303 : 3 6 3 --> 0.8825 0.875\n",
      "304 : 3 6 4 --> 0.5475 0.525\n",
      "305 : 3 6 5 --> 0.86875 0.84\n",
      "306 : 3 6 6 --> 0.9775 0.985\n",
      "307 : 3 6 7 --> 0.51875 0.48\n",
      "308 : 3 6 8 --> 0.99625 0.995\n",
      "309 : 3 6 9 --> 0.51875 0.48\n",
      "310 : 3 7 0 --> 0.51875 0.48\n",
      "311 : 3 7 1 --> 0.51875 0.48\n",
      "312 : 3 7 2 --> 0.89125 0.91\n",
      "313 : 3 7 3 --> 0.9425 0.925\n",
      "314 : 3 7 4 --> 0.59625 0.585\n",
      "315 : 3 7 5 --> 0.93625 0.91\n",
      "316 : 3 7 6 --> 0.51875 0.48\n",
      "317 : 3 7 7 --> 0.65 0.59\n",
      "318 : 3 7 8 --> 0.8925 0.86\n",
      "319 : 3 7 9 --> 0.94875 0.975\n"
     ]
    }
   ],
   "source": [
    "l1s = [0, 0.2, 0.5, 1]\n",
    "dzs = [0, 1, 2, 5, 10, 20, 50, 100]\n",
    "iters = 10\n",
    "\n",
    "trains = np.zeros((len(l1s), len(dzs), iters))\n",
    "vals = np.copy(trains)\n",
    "weights = list()\n",
    "\n",
    "for i, l1 in enumerate(l1s):\n",
    "    for j, dz in enumerate(dzs):\n",
    "        for k in range(iters):\n",
    "            train, val, weight = general_network(data, kind='fully_connected', \n",
    "                                                  reg_kind='DZ+L1', reg_value=[l1,dz], \n",
    "                                                  verbose=False,\n",
    "                                                  return_weights=True)\n",
    "            print(len(weights),':',i,j,k,'-->',train,val)\n",
    "            trains[i,j,k] = train\n",
    "            vals[i,j,k] = val\n",
    "            weights.append(weight)"
   ]
  },
  {
   "cell_type": "markdown",
   "metadata": {},
   "source": [
    "### Convolutions"
   ]
  },
  {
   "cell_type": "code",
   "execution_count": 183,
   "metadata": {},
   "outputs": [
    {
     "name": "stdout",
     "output_type": "stream",
     "text": [
      "0 : 1 0 --> 0.80875 0.835\n",
      "1 : 1 1 --> 0.82625 0.845\n",
      "2 : 1 2 --> 0.51875 0.48\n",
      "3 : 1 3 --> 0.51875 0.48\n",
      "4 : 1 4 --> 0.8125 0.835\n",
      "5 : 1 5 --> 0.81875 0.79\n",
      "6 : 1 6 --> 0.51875 0.48\n",
      "7 : 1 7 --> 0.51875 0.48\n",
      "8 : 1 8 --> 0.825 0.845\n",
      "9 : 1 9 --> 0.81125 0.835\n",
      "10 : 3 0 --> 0.5975 0.59\n",
      "11 : 3 1 --> 0.95875 0.955\n",
      "12 : 3 2 --> 0.9575 0.965\n",
      "13 : 3 3 --> 0.50625 0.52\n",
      "14 : 3 4 --> 0.93875 0.94\n",
      "15 : 3 5 --> 0.8475 0.855\n",
      "16 : 3 6 --> 0.61125 0.645\n",
      "17 : 3 7 --> 0.62125 0.6\n",
      "18 : 3 8 --> 0.90625 0.925\n",
      "19 : 3 9 --> 0.95625 0.95\n",
      "20 : 5 0 --> 0.98875 0.985\n",
      "21 : 5 1 --> 0.9925 0.99\n",
      "22 : 5 2 --> 0.56625 0.49\n",
      "23 : 5 3 --> 0.97375 0.985\n",
      "24 : 5 4 --> 0.98 0.97\n",
      "25 : 5 5 --> 0.98625 0.985\n",
      "26 : 5 6 --> 0.99125 0.985\n",
      "27 : 5 7 --> 0.98625 0.98\n",
      "28 : 5 8 --> 0.605 0.61\n",
      "29 : 5 9 --> 0.9875 0.985\n",
      "30 : 7 0 --> 0.61125 0.615\n",
      "31 : 7 1 --> 0.99625 0.99\n",
      "32 : 7 2 --> 0.9925 0.995\n",
      "33 : 7 3 --> 0.99875 0.995\n",
      "34 : 7 4 --> 0.61 0.62\n",
      "35 : 7 5 --> 0.9925 0.99\n",
      "36 : 7 6 --> 0.99875 0.995\n",
      "37 : 7 7 --> 0.99875 0.995\n",
      "38 : 7 8 --> 0.5725 0.55\n",
      "39 : 7 9 --> 0.635 0.615\n",
      "40 : 9 0 --> 1.0 0.995\n",
      "41 : 9 1 --> 0.99375 0.985\n",
      "42 : 9 2 --> 0.66875 0.63\n",
      "43 : 9 3 --> 0.68625 0.64\n",
      "44 : 9 4 --> 0.6325 0.63\n",
      "45 : 9 5 --> 0.99875 0.99\n",
      "46 : 9 6 --> 0.68875 0.635\n",
      "47 : 9 7 --> 0.665 0.605\n",
      "48 : 9 8 --> 0.99875 0.99\n",
      "49 : 9 9 --> 0.6525 0.66\n",
      "50 : 11 0 --> 0.63875 0.64\n",
      "51 : 11 1 --> 0.6325 0.56\n",
      "52 : 11 2 --> 0.99375 0.99\n",
      "53 : 11 3 --> 0.66875 0.615\n",
      "54 : 11 4 --> 0.98875 0.99\n",
      "55 : 11 5 --> 0.6575 0.61\n",
      "56 : 11 6 --> 0.69625 0.625\n",
      "57 : 11 7 --> 0.66 0.63\n",
      "58 : 11 8 --> 0.60125 0.535\n",
      "59 : 11 9 --> 0.99875 0.995\n",
      "60 : 13 0 --> 0.98125 0.98\n",
      "61 : 13 1 --> 0.98625 0.99\n",
      "62 : 13 2 --> 0.99 0.99\n",
      "63 : 13 3 --> 0.9975 1.0\n",
      "64 : 13 4 --> 0.67375 0.62\n",
      "65 : 13 5 --> 0.98875 0.985\n",
      "66 : 13 6 --> 0.62625 0.57\n",
      "67 : 13 7 --> 0.995 0.99\n",
      "68 : 13 8 --> 0.99875 0.99\n",
      "69 : 13 9 --> 1.0 0.995\n",
      "70 : 15 0 --> 0.62625 0.585\n",
      "71 : 15 1 --> 0.6425 0.66\n",
      "72 : 15 2 --> 0.70375 0.64\n",
      "73 : 15 3 --> 0.98 0.985\n",
      "74 : 15 4 --> 0.635 0.615\n",
      "75 : 15 5 --> 0.6675 0.635\n",
      "76 : 15 6 --> 0.6775 0.66\n",
      "77 : 15 7 --> 0.995 0.99\n",
      "78 : 15 8 --> 0.99 0.98\n",
      "79 : 15 9 --> 0.69 0.64\n",
      "80 : 17 0 --> 0.995 0.99\n",
      "81 : 17 1 --> 0.9975 0.99\n",
      "82 : 17 2 --> 0.66375 0.625\n",
      "83 : 17 3 --> 0.9925 0.985\n",
      "84 : 17 4 --> 0.6775 0.615\n",
      "85 : 17 5 --> 0.68625 0.635\n",
      "86 : 17 6 --> 0.6575 0.63\n",
      "87 : 17 7 --> 0.9975 0.99\n",
      "88 : 17 8 --> 0.995 0.99\n",
      "89 : 17 9 --> 0.99625 0.99\n",
      "90 : 19 0 --> 0.68 0.705\n",
      "91 : 19 1 --> 0.9825 0.99\n",
      "92 : 19 2 --> 0.9975 0.99\n",
      "93 : 19 3 --> 0.985 0.985\n",
      "94 : 19 4 --> 0.7 0.64\n",
      "95 : 19 5 --> 0.98375 0.99\n",
      "96 : 19 6 --> 0.695 0.655\n",
      "97 : 19 7 --> 0.99375 0.99\n",
      "98 : 19 8 --> 0.69625 0.69\n",
      "99 : 19 9 --> 0.66875 0.69\n"
     ]
    }
   ],
   "source": [
    "filter_sizes = [1,3,5,7,9,11,13,15,17,19]\n",
    "iters = 10\n",
    "\n",
    "trains_conv = np.zeros((len(filter_sizes), iters))\n",
    "vals_conv = np.copy(trains_conv)\n",
    "weights_conv = list()\n",
    "\n",
    "for i, filter_size in enumerate(filter_sizes):\n",
    "    for j in range(iters):\n",
    "        train, val, weight = general_network(data, kind='convolutional', filter_size=filter_size,\n",
    "                                              verbose=False,\n",
    "                                              return_weights=True)\n",
    "        print(len(weights_conv),':',filter_size,j,'-->',train,val)\n",
    "        trains_conv[i,j] = train\n",
    "        vals_conv[i,j] = val\n",
    "        weights_conv.append(weight)"
   ]
  },
  {
   "cell_type": "code",
   "execution_count": 102,
   "metadata": {},
   "outputs": [
    {
     "data": {
      "image/png": "[encoded data removed]",
      "text/plain": [
       "<Figure size 432x288 with 1 Axes>"
      ]
     },
     "metadata": {},
     "output_type": "display_data"
    }
   ],
   "source": [
    "j = 1\n",
    "plt.bar(range(len(dzs)), np.mean(vals[j],axis=1),yerr=np.std(vals[j],axis=1), error_kw=dict(ecolor='gray'))\n",
    "plt.xticks(range(len(dzs)),dzs);"
   ]
  },
  {
   "cell_type": "code",
   "execution_count": 123,
   "metadata": {},
   "outputs": [
    {
     "data": {
      "image/png": "[encoded data removed]",
      "text/plain": [
       "<Figure size 432x288 with 1 Axes>"
      ]
     },
     "metadata": {},
     "output_type": "display_data"
    }
   ],
   "source": [
    "j = 1\n",
    "plt.bar(range(len(dzs))[:-1], np.mean(vals[j],axis=1)[:-1],yerr=np.std(vals[j],axis=1)[:-1], error_kw=dict(ecolor='gray'))\n",
    "plt.xticks(range(len(dzs))[:-1],dzs[:-1]);"
   ]
  },
  {
   "cell_type": "code",
   "execution_count": 114,
   "metadata": {},
   "outputs": [
    {
     "data": {
      "text/plain": [
       "([<matplotlib.axis.XTick at 0x7f01585f7cc0>,\n",
       "  <matplotlib.axis.XTick at 0x7f01585f7940>,\n",
       "  <matplotlib.axis.XTick at 0x7f01585f7240>,\n",
       "  <matplotlib.axis.XTick at 0x7f04207e4198>,\n",
       "  <matplotlib.axis.XTick at 0x7f04207e4630>,\n",
       "  <matplotlib.axis.XTick at 0x7f04207e49e8>,\n",
       "  <matplotlib.axis.XTick at 0x7f04207e4ef0>,\n",
       "  <matplotlib.axis.XTick at 0x7f01506d9400>,\n",
       "  <matplotlib.axis.XTick at 0x7f01506d9908>],\n",
       " <a list of 9 Text xticklabel objects>)"
      ]
     },
     "execution_count": 114,
     "metadata": {},
     "output_type": "execute_result"
    },
    {
     "data": {
      "image/png": "[encoded data removed]",
      "text/plain": [
       "<Figure size 432x288 with 1 Axes>"
      ]
     },
     "metadata": {},
     "output_type": "display_data"
    }
   ],
   "source": [
    "plt.bar(filter_sizes[:-1], np.mean(vals_conv,axis=1)[:-1],yerr=np.std(vals_conv,axis=1)[:-1], error_kw=dict(ecolor='gray'))\n",
    "plt.xticks(filter_sizes[:-1])"
   ]
  },
  {
   "cell_type": "code",
   "execution_count": 103,
   "metadata": {},
   "outputs": [
    {
     "data": {
      "text/plain": [
       "([<matplotlib.axis.XTick at 0x7f043ef99a90>,\n",
       "  <matplotlib.axis.XTick at 0x7f043ef99358>,\n",
       "  <matplotlib.axis.XTick at 0x7f043ef99240>,\n",
       "  <matplotlib.axis.XTick at 0x7f01586640b8>,\n",
       "  <matplotlib.axis.XTick at 0x7f0158664518>,\n",
       "  <matplotlib.axis.XTick at 0x7f01586647b8>,\n",
       "  <matplotlib.axis.XTick at 0x7f0158664c50>,\n",
       "  <matplotlib.axis.XTick at 0x7f0420756198>,\n",
       "  <matplotlib.axis.XTick at 0x7f04207566a0>],\n",
       " <a list of 9 Text xticklabel objects>)"
      ]
     },
     "execution_count": 103,
     "metadata": {},
     "output_type": "execute_result"
    },
    {
     "data": {
      "image/png": "[encoded data removed]",
      "text/plain": [
       "<Figure size 432x288 with 1 Axes>"
      ]
     },
     "metadata": {},
     "output_type": "display_data"
    }
   ],
   "source": [
    "plt.bar(filter_sizes[:-1], np.mean(vals_conv,axis=1)[:-1],yerr=np.std(vals_conv,axis=1)[:-1], error_kw=dict(ecolor='gray'))\n",
    "plt.xticks(filter_sizes[:-1])"
   ]
  },
  {
   "cell_type": "code",
   "execution_count": 194,
   "metadata": {},
   "outputs": [],
   "source": [
    "filename = 'session1.pkl'\n",
    "dill.load_session(filename)"
   ]
  },
  {
   "cell_type": "markdown",
   "metadata": {},
   "source": [
    "#### Combined Bar Plot"
   ]
  },
  {
   "cell_type": "code",
   "execution_count": 186,
   "metadata": {},
   "outputs": [
    {
     "data": {
      "text/plain": [
       "Text(0.5,0,'Fully-Connected Network')"
      ]
     },
     "execution_count": 186,
     "metadata": {},
     "output_type": "execute_result"
    },
    {
     "data": {
      "image/png": "[encoded data removed]",
      "text/plain": [
       "<Figure size 864x432 with 2 Axes>"
      ]
     },
     "metadata": {},
     "output_type": "display_data"
    }
   ],
   "source": [
    "fig, (ax1, ax2) = plt.subplots(1,2,sharey=True, figsize=[12,6])\n",
    "\n",
    "k = 4\n",
    "ax1.bar(filter_sizes[:-k], \n",
    "        np.mean(vals_conv,axis=1)[:-k],\n",
    "        yerr=np.std(vals_conv,axis=1)[:-k], \n",
    "        error_kw=dict(ecolor='gray'))\n",
    "\n",
    "j = 1\n",
    "ax1.axhline(np.mean(vals[j],axis=1)[4],linestyle='--',c='w')\n",
    "ax1.set_xticks(filter_sizes[:-k]);\n",
    "ax1.set_xlabel('Convolution Filter Size')\n",
    "ax1.set_ylabel('Validation Accuracy')\n",
    "\n",
    "ax2.bar([0,1], np.mean(vals[j],axis=1)[0:5:4],\n",
    "        yerr=np.std(vals[j],axis=1)[0:5:4], error_kw=dict(ecolor='gray'), width=0.3)\n",
    "ax2.axhline(np.mean(vals[j],axis=1)[4],linestyle='--',c='w')\n",
    "ax2.set_xticks([0,1])\n",
    "ax2.set_xticklabels(['No regularization','Diagonal regularization']);\n",
    "ax2.set_xlabel('Fully-Connected Network')"
   ]
  },
  {
   "cell_type": "markdown",
   "metadata": {},
   "source": [
    "#### Visualize the Weights"
   ]
  },
  {
   "cell_type": "code",
   "execution_count": 212,
   "metadata": {},
   "outputs": [
    {
     "name": "stdout",
     "output_type": "stream",
     "text": [
      "0.985 0.985\n"
     ]
    },
    {
     "data": {
      "text/plain": [
       "<matplotlib.image.AxesImage at 0x7f0153f75710>"
      ]
     },
     "execution_count": 212,
     "metadata": {},
     "output_type": "execute_result"
    },
    {
     "data": {
      "image/png": "[encoded data removed]",
      "text/plain": [
       "<Figure size 432x288 with 1 Axes>"
      ]
     },
     "metadata": {},
     "output_type": "display_data"
    }
   ],
   "source": [
    "train, val, weight = general_network(data, kind='fully_connected',\n",
    "                                      reg_kind='DZ+L1', reg_value=[10,1], \n",
    "                                      verbose=False,\n",
    "                                      return_weights=True)\n",
    "print(train,val)\n",
    "plt.imshow(weight, cmap='gray', vmin=np.min(weight), vmax=np.max(weight))"
   ]
  },
  {
   "cell_type": "markdown",
   "metadata": {},
   "source": [
    "# Meta Learning"
   ]
  },
  {
   "cell_type": "code",
   "execution_count": null,
   "metadata": {},
   "outputs": [],
   "source": [
    "def general_network(data, num_channels=1, verbose=True, batches=1500, print_every=100, filter_size=5,\n",
    "                    pool_to=1, return_weights=False, reg_kind=None, reg_value=None, kind='fully_connected'):\n",
    "    \n",
    "    tf.reset_default_graph()\n",
    "    # input\n",
    "    X_train, X_valid, y_train, y_valid = data\n",
    "    d = X_train.shape[1]\n",
    "\n",
    "    # placeholders\n",
    "    x = tf.placeholder(tf.float32, [None, d])\n",
    "    y_ = tf.placeholder(tf.float32, [None, 2])\n",
    "\n",
    "    # weights\n",
    "    if kind=='fully_connected':\n",
    "        W_1 = get_variable([d, d*num_channels])\n",
    "        b_1 = get_variable([d*num_channels])\n",
    "    elif kind=='convolutional':\n",
    "        W_1 = get_variable([filter_size, 1, num_channels])\n",
    "        b_1 = get_variable([num_channels])   \n",
    "    else:\n",
    "        raise ValueError('Invalid kind of neural network')\n",
    "    W_fc2 = get_variable([pool_to*num_channels, 2])\n",
    "    b_fc2 = get_variable([2])\n",
    "    \n",
    "    # network\n",
    "    if kind=='fully_connected':\n",
    "        h = tf.nn.relu(tf.matmul(x, W_1) + b_1)\n",
    "    elif kind=='convolutional':\n",
    "        x_reshaped = tf.reshape(x, [-1, d, 1])\n",
    "        h = tf.nn.conv1d(x_reshaped, W_1, 1, \"SAME\")\n",
    "        \n",
    "    h = tf.reshape(h, [-1, d*num_channels, 1, 1])\n",
    "    h = tf.nn.max_pool(h, [1, d/pool_to, 1, 1], [1, d/pool_to, 1, 1], padding='SAME')\n",
    "    h = tf.reshape(h, [-1, pool_to*num_channels])\n",
    "    y = tf.matmul(h, W_fc2) + b_fc2\n",
    "\n",
    "    loss = tf.reduce_mean(tf.nn.softmax_cross_entropy_with_logits(labels=y_, logits=y))\n",
    "    if kind=='fully_connected':\n",
    "        loss = regularize(loss, W_1, reg_kind, reg_value)\n",
    "    train_step = tf.train.AdamOptimizer(0.003).minimize(loss)\n",
    "\n",
    "    with tf.Session() as sess:\n",
    "        tf.global_variables_initializer().run()\n",
    "\n",
    "        correct_prediction = tf.equal(tf.argmax(y, 1), tf.argmax(y_, 1))\n",
    "        accuracy = tf.reduce_mean(tf.cast(correct_prediction, tf.float32))\n",
    "\n",
    "        for i in range(batches):\n",
    "            train_step.run(feed_dict={x: X_train, y_: y_train})\n",
    "            if i%print_every==0:\n",
    "                accuracy_train = accuracy.eval(feed_dict={x: X_train, y_: y_train})\n",
    "                accuracy_valid = accuracy.eval(feed_dict={x: X_valid, y_: y_valid})\n",
    "                if verbose:\n",
    "                    print('Train acc:',accuracy_train, 'Valid acc:',accuracy_valid)\n",
    "        \n",
    "        return_values = [accuracy_train, accuracy_valid]\n",
    "        if return_weights:\n",
    "            return_values.append(sess.run(W_1))\n",
    "        \n",
    "    return return_values"
   ]
  }
 ],
 "metadata": {
  "kernelspec": {
   "display_name": "Python 3",
   "language": "python",
   "name": "python3"
  },
  "language_info": {
   "codemirror_mode": {
    "name": "ipython",
    "version": 3
   },
   "file_extension": ".py",
   "mimetype": "text/x-python",
   "name": "python",
   "nbconvert_exporter": "python",
   "pygments_lexer": "ipython3",
   "version": "3.5.2"
  }
 },
 "nbformat": 4,
 "nbformat_minor": 2
}
