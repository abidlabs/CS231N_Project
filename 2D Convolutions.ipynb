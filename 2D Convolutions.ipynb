{
 "cells": [
  {
   "cell_type": "markdown",
   "metadata": {},
   "source": [
    "# 2D Convolutions"
   ]
  },
  {
   "cell_type": "code",
   "execution_count": 7,
   "metadata": {},
   "outputs": [
    {
     "name": "stdout",
     "output_type": "stream",
     "text": [
      "The autoreload extension is already loaded. To reload it, use:\n",
      "  %reload_ext autoreload\n"
     ]
    }
   ],
   "source": [
    "# setup\n",
    "\n",
    "import numpy as np, pickle\n",
    "import matplotlib.pyplot as plt\n",
    "from matplotlib import rcParams\n",
    "from tensorflow.examples.tutorials.mnist import input_data\n",
    "import tensorflow as tf\n",
    "from utils import *\n",
    "\n",
    "%matplotlib inline\n",
    "%load_ext autoreload\n",
    "%autoreload 2\n",
    "\n",
    "params = {\n",
    "   'axes.labelsize': 16,\n",
    "   'font.size': 16,\n",
    "   'legend.fontsize': 16,\n",
    "   'xtick.labelsize': 13,\n",
    "   'ytick.labelsize': 13,\n",
    "   'text.usetex': False,\n",
    "    'font.family':\"sans-serif\",\n",
    "   'font.sans-serif':'Arial',\n",
    "   'text.usetex': False,\n",
    "   }\n",
    "\n",
    "rcParams.update(params)"
   ]
  },
  {
   "cell_type": "code",
   "execution_count": 3,
   "metadata": {},
   "outputs": [
    {
     "name": "stdout",
     "output_type": "stream",
     "text": [
      "WARNING:tensorflow:From <ipython-input-3-09a760f69826>:1: read_data_sets (from tensorflow.contrib.learn.python.learn.datasets.mnist) is deprecated and will be removed in a future version.\n",
      "Instructions for updating:\n",
      "Please use alternatives such as official/mnist/dataset.py from tensorflow/models.\n",
      "WARNING:tensorflow:From C:\\Python35\\lib\\site-packages\\tensorflow\\contrib\\learn\\python\\learn\\datasets\\mnist.py:260: maybe_download (from tensorflow.contrib.learn.python.learn.datasets.base) is deprecated and will be removed in a future version.\n",
      "Instructions for updating:\n",
      "Please write your own downloading logic.\n",
      "WARNING:tensorflow:From C:\\Python35\\lib\\site-packages\\tensorflow\\contrib\\learn\\python\\learn\\datasets\\mnist.py:262: extract_images (from tensorflow.contrib.learn.python.learn.datasets.mnist) is deprecated and will be removed in a future version.\n",
      "Instructions for updating:\n",
      "Please use tf.data to implement this functionality.\n",
      "Extracting MNIST_data/train-images-idx3-ubyte.gz\n",
      "WARNING:tensorflow:From C:\\Python35\\lib\\site-packages\\tensorflow\\contrib\\learn\\python\\learn\\datasets\\mnist.py:267: extract_labels (from tensorflow.contrib.learn.python.learn.datasets.mnist) is deprecated and will be removed in a future version.\n",
      "Instructions for updating:\n",
      "Please use tf.data to implement this functionality.\n",
      "Extracting MNIST_data/train-labels-idx1-ubyte.gz\n",
      "WARNING:tensorflow:From C:\\Python35\\lib\\site-packages\\tensorflow\\contrib\\learn\\python\\learn\\datasets\\mnist.py:110: dense_to_one_hot (from tensorflow.contrib.learn.python.learn.datasets.mnist) is deprecated and will be removed in a future version.\n",
      "Instructions for updating:\n",
      "Please use tf.one_hot on tensors.\n",
      "Extracting MNIST_data/t10k-images-idx3-ubyte.gz\n",
      "Extracting MNIST_data/t10k-labels-idx1-ubyte.gz\n",
      "WARNING:tensorflow:From C:\\Python35\\lib\\site-packages\\tensorflow\\contrib\\learn\\python\\learn\\datasets\\mnist.py:290: DataSet.__init__ (from tensorflow.contrib.learn.python.learn.datasets.mnist) is deprecated and will be removed in a future version.\n",
      "Instructions for updating:\n",
      "Please use alternatives such as official/mnist/dataset.py from tensorflow/models.\n"
     ]
    }
   ],
   "source": [
    "mnist = input_data.read_data_sets(\"MNIST_data/\", one_hot=True)\n",
    "\n",
    "def get_variable(shape):\n",
    "    initial = tf.random_normal(shape)\n",
    "    return tf.Variable(initial)"
   ]
  },
  {
   "cell_type": "code",
   "execution_count": 4,
   "metadata": {},
   "outputs": [],
   "source": [
    "def regularize(loss, weights, reg_kind=None, reg_value=None):\n",
    "    if reg_kind is None:\n",
    "        return loss\n",
    "    else:\n",
    "        raise ValueError(\"Invalid value for parameter: reg_kind\")"
   ]
  },
  {
   "cell_type": "markdown",
   "metadata": {},
   "source": [
    "# 2D-Convolutional"
   ]
  },
  {
   "cell_type": "code",
   "execution_count": 62,
   "metadata": {},
   "outputs": [],
   "source": [
    "def convolutional(pool=4, num_channels=10, verbose=True,return_weights=False,reg_kind=None, reg_value=None, filter_size=3):\n",
    "\n",
    "    d = int(784/pool**2)\n",
    "    x = tf.placeholder(tf.float32, [None, 784])\n",
    "\n",
    "    #hidden layer\n",
    "    W_conv = get_variable([filter_size, filter_size, 1, num_channels])\n",
    "    b_conv = get_variable([num_channels])\n",
    "    #h_fc1 = tf.sigmoid(tf.matmul(x, W_fc1) + b_fc1)\n",
    "\n",
    "    x_reshaped = tf.reshape(x, [-1, 28, 28, 1])\n",
    "    x_reshaped = tf.nn.max_pool(x_reshaped, [1, pool, pool,1], [1, pool, pool, 1], padding='SAME')\n",
    "    #x_reshaped = tf.reshape(x_reshaped, [-1, d])\n",
    "\n",
    "    h = tf.nn.conv2d(x_reshaped, W_conv, [1, 1, 1, 1], \"SAME\")\n",
    "    h = tf.nn.sigmoid(h + b_conv)\n",
    "\n",
    "    #output layer\n",
    "    W_fc2 = get_variable([d*num_channels, 10])\n",
    "    b_fc2 = get_variable([10])\n",
    "    y = tf.matmul(tf.reshape(h, [-1, d*num_channels]), W_fc2) + b_fc2\n",
    "\n",
    "    y_ = tf.placeholder(tf.float32, [None, 10])\n",
    "    loss = tf.reduce_mean(tf.nn.softmax_cross_entropy_with_logits(labels=y_, logits=y))\n",
    "    loss = regularize(loss, W_fc2, reg_kind, reg_value)\n",
    "    train_step = tf.train.GradientDescentOptimizer(3.0).minimize(loss)\n",
    "\n",
    "    with tf.Session() as sess:\n",
    "        tf.global_variables_initializer().run()\n",
    "\n",
    "        correct_prediction = tf.equal(tf.argmax(y, 1), tf.argmax(y_, 1))\n",
    "        accuracy = tf.reduce_mean(tf.cast(correct_prediction, tf.float32))\n",
    "\n",
    "        for i in range(1500):\n",
    "            batch = mnist.train.next_batch(100)\n",
    "            train_step.run(feed_dict={x: batch[0], y_: batch[1]})\n",
    "            if i%100==0:\n",
    "                accuracy_train = accuracy.eval(feed_dict={x: mnist.train.images, y_: mnist.train.labels})\n",
    "                accuracy_valid = accuracy.eval(feed_dict={x: mnist.test.images, y_: mnist.test.labels})\n",
    "                if verbose:\n",
    "                    print('Train acc:',accuracy_train, 'Valid acc:',accuracy_valid)\n",
    "                \n",
    "        return_values = [accuracy_train, accuracy_valid]\n",
    "        if return_weights:\n",
    "            return_values.append(sess.run(W_conv))\n",
    "    \n",
    "    return return_values"
   ]
  },
  {
   "cell_type": "code",
   "execution_count": 54,
   "metadata": {},
   "outputs": [
    {
     "name": "stdout",
     "output_type": "stream",
     "text": [
      "Train acc: 0.17616364 Valid acc: 0.1793\n",
      "Train acc: 0.6310545 Valid acc: 0.6304\n",
      "Train acc: 0.75885457 Valid acc: 0.7668\n",
      "Train acc: 0.7923091 Valid acc: 0.7999\n",
      "Train acc: 0.80563635 Valid acc: 0.8096\n",
      "Train acc: 0.8122727 Valid acc: 0.8113\n",
      "Train acc: 0.81856364 Valid acc: 0.8176\n",
      "Train acc: 0.83172727 Valid acc: 0.836\n",
      "Train acc: 0.8301273 Valid acc: 0.8314\n",
      "Train acc: 0.8268545 Valid acc: 0.827\n"
     ]
    }
   ],
   "source": [
    "accuracy_train, accuracy_valid, weights = convolutional(return_weights=True, filter_size=5, num_channels=20)"
   ]
  },
  {
   "cell_type": "code",
   "execution_count": null,
   "metadata": {},
   "outputs": [
    {
     "name": "stdout",
     "output_type": "stream",
     "text": [
      "3 5 0.8158\n",
      "3 10 0.8176\n",
      "3 20 0.8562\n",
      "3 32 0.8572\n",
      "3 64 0.8583\n",
      "3 128 0.8654\n",
      "4 5 0.8607\n",
      "4 10 0.8579\n",
      "4 20 0.861\n",
      "4 32 0.8518\n",
      "4 64 0.8692\n",
      "4 128 0.8757\n",
      "5 5 0.8627\n",
      "5 10 0.8472\n",
      "5 20 0.8656\n",
      "5 32 0.873\n",
      "5 64 0.8672\n"
     ]
    }
   ],
   "source": [
    "for filter_size in [3,4,5]:\n",
    "    for num_channels in [5, 10, 20, 32, 64, 128]:\n",
    "        accuracy_train, accuracy_valid = convolutional(verbose=False, filter_size=filter_size, \n",
    "                                                       num_channels=num_channels)\n",
    "        print(filter_size, num_channels, accuracy_valid)"
   ]
  },
  {
   "cell_type": "code",
   "execution_count": 56,
   "metadata": {},
   "outputs": [],
   "source": [
    "def visualize_conv_weights(weights, num_channels=10, filter_size=3):\n",
    "    weights = np.abs(weights.reshape(filter_size, filter_size, num_channels)) # we care about magnitude\n",
    "    fig, axes = plt.subplots(int(num_channels/3), 3,  figsize=[9,3*int(num_channels/3)])\n",
    "    for i in range(3*int(num_channels/3)):\n",
    "        axes[int(i/3)][i%3].imshow(weights[:, :, i], cmap='gray', vmin=np.min(weights), vmax=np.max(weights))  "
   ]
  },
  {
   "cell_type": "code",
   "execution_count": 57,
   "metadata": {},
   "outputs": [
    {
     "data": {
      "image/png": "[encoded data removed]",
      "text/plain": [
       "<matplotlib.figure.Figure at 0x255046b2940>"
      ]
     },
     "metadata": {},
     "output_type": "display_data"
    }
   ],
   "source": [
    "visualize_conv_weights(weights, filter_size=5, num_channels=20)"
   ]
  },
  {
   "cell_type": "code",
   "execution_count": 5,
   "metadata": {},
   "outputs": [],
   "source": [
    "def fully_connected(pool=4, num_channels=10, verbose=True, return_weights=False, reg_kind=None, reg_value=None):\n",
    "    \n",
    "    d = int(784/pool**2)\n",
    "    x = tf.placeholder(tf.float32, [None, 784])\n",
    "\n",
    "\n",
    "    #hidden layer\n",
    "    W_fc1 = get_variable([d, d*num_channels])\n",
    "    b_fc1 = get_variable([d*num_channels])\n",
    "    # W_fc1 = weight_variable([784, 7840])\n",
    "    # b_fc1 = bias_variable([7840])\n",
    "    x_reshaped = tf.reshape(x, [-1, 28, 28, 1])\n",
    "    x_reshaped = tf.nn.max_pool(x_reshaped, [1, pool, pool,1], [1, pool, pool, 1], padding='SAME')\n",
    "    x_reshaped = tf.reshape(x_reshaped, [-1, d])\n",
    "    h_fc1 = tf.sigmoid(tf.matmul(x_reshaped, W_fc1) + b_fc1)\n",
    "\n",
    "    #output layer\n",
    "    W_fc2 = get_variable([d*num_channels, 10])\n",
    "    # W_fc2 = weight_variable([7840, 10])\n",
    "    b_fc2 = get_variable([10])\n",
    "    y = tf.matmul(h_fc1, W_fc2) + b_fc2\n",
    "\n",
    "    y_ = tf.placeholder(tf.float32, [None, 10])\n",
    "    loss = tf.reduce_mean(tf.nn.softmax_cross_entropy_with_logits(labels=y_, logits=y))\n",
    "    loss = regularize(loss, W_fc1, reg_kind, reg_value)\n",
    "    train_step = tf.train.GradientDescentOptimizer(3.0).minimize(loss)\n",
    "\n",
    "    with tf.Session() as sess:\n",
    "        tf.global_variables_initializer().run()\n",
    "\n",
    "        correct_prediction = tf.equal(tf.argmax(y, 1), tf.argmax(y_, 1))\n",
    "        accuracy = tf.reduce_mean(tf.cast(correct_prediction, tf.float32))\n",
    "\n",
    "        for i in range(1500):\n",
    "            batch = mnist.train.next_batch(100)\n",
    "            train_step.run(feed_dict={x: batch[0], y_: batch[1]})\n",
    "            if i%100==0:\n",
    "                accuracy_train = accuracy.eval(feed_dict={x: mnist.train.images, y_: mnist.train.labels})\n",
    "                accuracy_valid = accuracy.eval(feed_dict={x: mnist.test.images, y_: mnist.test.labels})\n",
    "                if verbose:\n",
    "                    print('Train acc:',accuracy_train, 'Valid acc:',accuracy_valid)\n",
    "        \n",
    "        return_values = [accuracy_train, accuracy_valid]\n",
    "        if return_weights:\n",
    "            return_values.append(sess.run(W_fc1))\n",
    "        \n",
    "    return return_values"
   ]
  },
  {
   "cell_type": "code",
   "execution_count": 58,
   "metadata": {},
   "outputs": [
    {
     "name": "stdout",
     "output_type": "stream",
     "text": [
      "Train acc: 0.124 Valid acc: 0.1159\n",
      "Train acc: 0.6629091 Valid acc: 0.6714\n",
      "Train acc: 0.8190727 Valid acc: 0.8215\n",
      "Train acc: 0.80538183 Valid acc: 0.8052\n",
      "Train acc: 0.83205456 Valid acc: 0.8332\n",
      "Train acc: 0.7968909 Valid acc: 0.7923\n",
      "Train acc: 0.86047274 Valid acc: 0.8579\n",
      "Train acc: 0.82354546 Valid acc: 0.8162\n",
      "Train acc: 0.8709273 Valid acc: 0.8641\n",
      "Train acc: 0.8835091 Valid acc: 0.8807\n"
     ]
    }
   ],
   "source": [
    "accuracy_train, accuracy_valid, weights = fully_connected(return_weights=True, num_channels=20)"
   ]
  },
  {
   "cell_type": "code",
   "execution_count": 6,
   "metadata": {},
   "outputs": [
    {
     "name": "stdout",
     "output_type": "stream",
     "text": [
      "WARNING:tensorflow:From <ipython-input-5-e1f72de3132c>:24: softmax_cross_entropy_with_logits (from tensorflow.python.ops.nn_ops) is deprecated and will be removed in a future version.\n",
      "Instructions for updating:\n",
      "\n",
      "Future major versions of TensorFlow will allow gradients to flow\n",
      "into the labels input on backprop by default.\n",
      "\n",
      "See tf.nn.softmax_cross_entropy_with_logits_v2.\n",
      "\n",
      "5 0.866\n",
      "5 0.8822\n",
      "5 0.8791\n",
      "10 0.869\n",
      "10 0.8843\n",
      "10 0.8664\n",
      "20 0.8756\n",
      "20 0.8368\n",
      "20 0.8386\n",
      "32 0.8591\n",
      "32 0.8695\n",
      "32 0.8804\n",
      "64 0.8864\n",
      "64 0.8121\n",
      "64 0.8585\n",
      "128 0.7936\n",
      "128 0.7941\n",
      "128 0.8401\n"
     ]
    }
   ],
   "source": [
    "for num_channels in [5, 10, 20, 32, 64, 128]:\n",
    "    for i in range(3):\n",
    "        accuracy_train, accuracy_valid = fully_connected(verbose=False, num_channels=num_channels)\n",
    "        print(num_channels, accuracy_valid)"
   ]
  }
 ],
 "metadata": {
  "kernelspec": {
   "display_name": "Python 3",
   "language": "python",
   "name": "python3"
  },
  "language_info": {
   "codemirror_mode": {
    "name": "ipython",
    "version": 3
   },
   "file_extension": ".py",
   "mimetype": "text/x-python",
   "name": "python",
   "nbconvert_exporter": "python",
   "pygments_lexer": "ipython3",
   "version": "3.5.2"
  }
 },
 "nbformat": 4,
 "nbformat_minor": 2
}
